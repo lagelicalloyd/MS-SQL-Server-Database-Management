{
    "metadata": {
        "kernelspec": {
            "name": "SQL",
            "display_name": "SQL",
            "language": "sql"
        },
        "language_info": {
            "name": "sql",
            "version": ""
        }
    },
    "nbformat_minor": 2,
    "nbformat": 4,
    "cells": [
        {
            "cell_type": "markdown",
            "source": [
                " **Creating and Altering Tables for a New Hospital Management Database with SQL**"
            ],
            "metadata": {
                "language": "sql",
                "azdata_cell_guid": "ee5b4286-f670-4954-b7a5-c9aeab698eee"
            },
            "attachments": {}
        },
        {
            "cell_type": "code",
            "source": [
                "CREATE TABLE Patient(\r\n",
                "\r\n",
                "Patient_ID INT NOT NULL,\r\n",
                "Patient_Name VARCHAR (100),\r\n",
                "Patient_Age INT,\r\n",
                "Patient_Address VARCHAR(100),\r\n",
                "Patient_Gender VARCHAR(100),\r\n",
                "Disease VARCHAR(100)\r\n",
                ");\r\n",
                ""
            ],
            "metadata": {
                "azdata_cell_guid": "546f56df-603b-4d0d-993f-8fc4124ce4cb",
                "language": "sql",
                "tags": []
            },
            "outputs": [
                {
                    "output_type": "display_data",
                    "data": {
                        "text/html": "Commands completed successfully."
                    },
                    "metadata": {}
                },
                {
                    "output_type": "display_data",
                    "data": {
                        "text/html": "Total execution time: 00:00:00.024"
                    },
                    "metadata": {}
                }
            ],
            "execution_count": 1
        },
        {
            "cell_type": "code",
            "source": [
                "ALTER TABLE Patient\r\n",
                "ADD Doctor_ID INT NOT NULL;"
            ],
            "metadata": {
                "language": "sql",
                "azdata_cell_guid": "83b8cfb0-01c7-4260-838c-3a484bf75764"
            },
            "outputs": [
                {
                    "output_type": "display_data",
                    "data": {
                        "text/html": "Commands completed successfully."
                    },
                    "metadata": {}
                },
                {
                    "output_type": "display_data",
                    "data": {
                        "text/html": "Total execution time: 00:00:00.012"
                    },
                    "metadata": {}
                }
            ],
            "execution_count": 2
        },
        {
            "cell_type": "code",
            "source": [
                "ALTER TABLE Patient\r\n",
                "DROP COLUMN Patient_Gender"
            ],
            "metadata": {
                "language": "sql",
                "azdata_cell_guid": "7b61313c-af88-4959-bcff-500378b1289b"
            },
            "outputs": [
                {
                    "output_type": "display_data",
                    "data": {
                        "text/html": "Commands completed successfully."
                    },
                    "metadata": {}
                },
                {
                    "output_type": "display_data",
                    "data": {
                        "text/html": "Total execution time: 00:00:00.053"
                    },
                    "metadata": {}
                }
            ],
            "execution_count": 3
        },
        {
            "cell_type": "code",
            "source": [
                "ALTER TABLE Patient\r\n",
                "ADD Patient_Gender VARCHAR(10)"
            ],
            "metadata": {
                "language": "sql",
                "azdata_cell_guid": "8a55be62-76ca-4ad6-ade7-cc460b0ae182"
            },
            "outputs": [
                {
                    "output_type": "display_data",
                    "data": {
                        "text/html": "Commands completed successfully."
                    },
                    "metadata": {}
                },
                {
                    "output_type": "display_data",
                    "data": {
                        "text/html": "Total execution time: 00:00:00.007"
                    },
                    "metadata": {}
                }
            ],
            "execution_count": 4
        },
        {
            "cell_type": "code",
            "source": [
                "SELECT * FROM Patient"
            ],
            "metadata": {
                "language": "sql",
                "azdata_cell_guid": "9677889d-1a9f-4787-9ce3-15f38b867002"
            },
            "outputs": [
                {
                    "output_type": "display_data",
                    "data": {
                        "text/html": "(0 rows affected)"
                    },
                    "metadata": {}
                },
                {
                    "output_type": "display_data",
                    "data": {
                        "text/html": "Total execution time: 00:00:00.004"
                    },
                    "metadata": {}
                },
                {
                    "output_type": "execute_result",
                    "metadata": {},
                    "execution_count": 5,
                    "data": {
                        "application/vnd.dataresource+json": {
                            "schema": {
                                "fields": [
                                    {
                                        "name": "Patient_ID"
                                    },
                                    {
                                        "name": "Patient_Name"
                                    },
                                    {
                                        "name": "Patient_Age"
                                    },
                                    {
                                        "name": "Patient_Address"
                                    },
                                    {
                                        "name": "Disease"
                                    },
                                    {
                                        "name": "Doctor_ID"
                                    },
                                    {
                                        "name": "Patient_Gender"
                                    }
                                ]
                            },
                            "data": []
                        },
                        "text/html": [
                            "<table>",
                            "<tr><th>Patient_ID</th><th>Patient_Name</th><th>Patient_Age</th><th>Patient_Address</th><th>Disease</th><th>Doctor_ID</th><th>Patient_Gender</th></tr>",
                            "</table>"
                        ]
                    }
                }
            ],
            "execution_count": 5
        },
        {
            "cell_type": "code",
            "source": [
                "SELECT * FROM Patient"
            ],
            "metadata": {
                "language": "sql",
                "azdata_cell_guid": "14d61cc8-e969-4d8e-9815-8686fda19f5f"
            },
            "outputs": [
                {
                    "output_type": "display_data",
                    "data": {
                        "text/html": "(0 rows affected)"
                    },
                    "metadata": {}
                },
                {
                    "output_type": "display_data",
                    "data": {
                        "text/html": "Total execution time: 00:00:00.124"
                    },
                    "metadata": {}
                },
                {
                    "output_type": "execute_result",
                    "execution_count": 4,
                    "data": {
                        "application/vnd.dataresource+json": {
                            "schema": {
                                "fields": [
                                    {
                                        "name": "Patient_ID"
                                    },
                                    {
                                        "name": "Patient_Name"
                                    },
                                    {
                                        "name": "Patient_Age"
                                    },
                                    {
                                        "name": "Patient_Address"
                                    },
                                    {
                                        "name": "Disease"
                                    },
                                    {
                                        "name": "Doctor_ID"
                                    }
                                ]
                            },
                            "data": []
                        },
                        "text/html": "<table><tr><th>Patient_ID</th><th>Patient_Name</th><th>Patient_Age</th><th>Patient_Address</th><th>Disease</th><th>Doctor_ID</th></tr></table>"
                    },
                    "metadata": {}
                }
            ],
            "execution_count": 4
        },
        {
            "cell_type": "code",
            "source": [
                "ALTER TABLE Patient\r\n",
                "ADD CONSTRAINT Patient_PK\r\n",
                "PRIMARY KEY (Patient_ID)"
            ],
            "metadata": {
                "language": "sql",
                "azdata_cell_guid": "9a961c79-5d70-429a-8cfc-de2853e1eba4"
            },
            "outputs": [
                {
                    "output_type": "display_data",
                    "data": {
                        "text/html": "Commands completed successfully."
                    },
                    "metadata": {}
                },
                {
                    "output_type": "display_data",
                    "data": {
                        "text/html": "Total execution time: 00:00:00.038"
                    },
                    "metadata": {}
                }
            ],
            "execution_count": 6
        },
        {
            "cell_type": "code",
            "source": [
                "CREATE TABLE Doctor(\r\n",
                "    Doctor_ID INT NOT NULL,\r\n",
                "    Doctor_Name VARCHAR(100),\r\n",
                "    Doctor_Age VARCHAR(100),\r\n",
                "    Doctor_Gender VARCHAR(100),\r\n",
                "    Doctor_Address VARCHAR(100)\r\n",
                "\r\n",
                "    CONSTRAINT Doctor_PK PRIMARY KEY (Doctor_ID)\r\n",
                ");"
            ],
            "metadata": {
                "language": "sql",
                "azdata_cell_guid": "7e8b7a14-b2db-4223-a9f0-93b08a90e956",
                "tags": []
            },
            "outputs": [
                {
                    "output_type": "display_data",
                    "data": {
                        "text/html": "Commands completed successfully."
                    },
                    "metadata": {}
                },
                {
                    "output_type": "display_data",
                    "data": {
                        "text/html": "Total execution time: 00:00:00.035"
                    },
                    "metadata": {}
                }
            ],
            "execution_count": 7
        },
        {
            "cell_type": "code",
            "source": [
                "SELECT * FROM Doctor"
            ],
            "metadata": {
                "language": "sql",
                "azdata_cell_guid": "0b9727a0-5b6b-4593-9816-0a6e38b89c4a"
            },
            "outputs": [
                {
                    "output_type": "display_data",
                    "data": {
                        "text/html": "(0 rows affected)"
                    },
                    "metadata": {}
                },
                {
                    "output_type": "display_data",
                    "data": {
                        "text/html": "Total execution time: 00:00:00.010"
                    },
                    "metadata": {}
                },
                {
                    "output_type": "execute_result",
                    "metadata": {},
                    "execution_count": 3,
                    "data": {
                        "application/vnd.dataresource+json": {
                            "schema": {
                                "fields": [
                                    {
                                        "name": "Doctor_ID"
                                    },
                                    {
                                        "name": "Doctor_Name"
                                    },
                                    {
                                        "name": "Doctor_Age"
                                    },
                                    {
                                        "name": "Doctor_Gender"
                                    },
                                    {
                                        "name": "Doctor_Address"
                                    }
                                ]
                            },
                            "data": []
                        },
                        "text/html": [
                            "<table>",
                            "<tr><th>Doctor_ID</th><th>Doctor_Name</th><th>Doctor_Age</th><th>Doctor_Gender</th><th>Doctor_Address</th></tr>",
                            "</table>"
                        ]
                    }
                }
            ],
            "execution_count": 3
        },
        {
            "cell_type": "code",
            "source": [
                "CREATE TABLE Room(\r\n",
                "    Room_No INT NOT NULL,\r\n",
                "    Room_Status VARCHAR(25),\r\n",
                "    Room_Type VARCHAR(25)\r\n",
                "\r\n",
                "CONSTRAINT Room_PK PRIMARY KEY (Room_No)\r\n",
                ");"
            ],
            "metadata": {
                "language": "sql",
                "azdata_cell_guid": "599b0188-de9f-4270-a4a1-ed75a0ab2185"
            },
            "outputs": [
                {
                    "output_type": "display_data",
                    "data": {
                        "text/html": "Commands completed successfully."
                    },
                    "metadata": {}
                },
                {
                    "output_type": "display_data",
                    "data": {
                        "text/html": "Total execution time: 00:00:00.025"
                    },
                    "metadata": {}
                }
            ],
            "execution_count": 6
        },
        {
            "cell_type": "code",
            "source": [
                "SELECT * FROM Room"
            ],
            "metadata": {
                "language": "sql",
                "azdata_cell_guid": "33ca8396-1ec8-489a-a08d-6dfd1cc96aa1"
            },
            "outputs": [
                {
                    "output_type": "display_data",
                    "data": {
                        "text/html": "(0 rows affected)"
                    },
                    "metadata": {}
                },
                {
                    "output_type": "display_data",
                    "data": {
                        "text/html": "Total execution time: 00:00:00.001"
                    },
                    "metadata": {}
                },
                {
                    "output_type": "execute_result",
                    "metadata": {},
                    "execution_count": 7,
                    "data": {
                        "application/vnd.dataresource+json": {
                            "schema": {
                                "fields": [
                                    {
                                        "name": "Room_No"
                                    },
                                    {
                                        "name": "Room_Status"
                                    },
                                    {
                                        "name": "Room_Type"
                                    }
                                ]
                            },
                            "data": []
                        },
                        "text/html": [
                            "<table>",
                            "<tr><th>Room_No</th><th>Room_Status</th><th>Room_Type</th></tr>",
                            "</table>"
                        ]
                    }
                }
            ],
            "execution_count": 7
        },
        {
            "cell_type": "code",
            "source": [
                "ALTER TABLE Patient\r\n",
                "ADD CONSTRAINT Patient_Doc_FK FOREIGN KEY (Doctor_ID) REFERENCES Doctor(Doctor_ID)"
            ],
            "metadata": {
                "language": "sql",
                "azdata_cell_guid": "230abb22-ef18-4e8c-b7b5-6809edf52ddd"
            },
            "outputs": [
                {
                    "output_type": "display_data",
                    "data": {
                        "text/html": "Commands completed successfully."
                    },
                    "metadata": {}
                },
                {
                    "output_type": "display_data",
                    "data": {
                        "text/html": "Total execution time: 00:00:00.004"
                    },
                    "metadata": {}
                }
            ],
            "execution_count": 8
        },
        {
            "cell_type": "code",
            "source": [
                "CREATE TABLE Check_In_Out(\r\n",
                "    Patient_ID INT NOT NULL,\r\n",
                "    Room_No INT,\r\n",
                "    Check_In_Date datetime,\r\n",
                "    Check_Out_Date datetime,\r\n",
                "    \r\n",
                "    CONSTRAINT Patient_ID_FK FOREIGN KEY (Patient_ID) REFERENCES Patient (Patient_ID),\r\n",
                "\r\n",
                "    CONSTRAINT Room_No_FK FOREIGN KEY (Room_NO) REFERENCES Room (Room_No)\r\n",
                "    );"
            ],
            "metadata": {
                "language": "sql",
                "azdata_cell_guid": "1d56a7a6-3a8f-4c43-87b7-39845c10bff6"
            },
            "outputs": [
                {
                    "output_type": "display_data",
                    "data": {
                        "text/html": "Commands completed successfully."
                    },
                    "metadata": {}
                },
                {
                    "output_type": "display_data",
                    "data": {
                        "text/html": "Total execution time: 00:00:00.054"
                    },
                    "metadata": {}
                }
            ],
            "execution_count": 11
        },
        {
            "cell_type": "code",
            "source": [
                "Select * FROM Check_In_Out"
            ],
            "metadata": {
                "language": "sql",
                "azdata_cell_guid": "57279387-f6f3-4d62-b5b2-dcc46a524e58"
            },
            "outputs": [
                {
                    "output_type": "display_data",
                    "data": {
                        "text/html": "(0 rows affected)"
                    },
                    "metadata": {}
                },
                {
                    "output_type": "display_data",
                    "data": {
                        "text/html": "Total execution time: 00:00:00.025"
                    },
                    "metadata": {}
                },
                {
                    "output_type": "execute_result",
                    "metadata": {},
                    "execution_count": 12,
                    "data": {
                        "application/vnd.dataresource+json": {
                            "schema": {
                                "fields": [
                                    {
                                        "name": "Patient_ID"
                                    },
                                    {
                                        "name": "Room_No"
                                    },
                                    {
                                        "name": "Check_In_Date"
                                    },
                                    {
                                        "name": "Check_Out_Date"
                                    }
                                ]
                            },
                            "data": []
                        },
                        "text/html": [
                            "<table>",
                            "<tr><th>Patient_ID</th><th>Room_No</th><th>Check_In_Date</th><th>Check_Out_Date</th></tr>",
                            "</table>"
                        ]
                    }
                }
            ],
            "execution_count": 12
        },
        {
            "cell_type": "code",
            "source": [
                "INSERT INTO Doctor\r\n",
                "VALUES (1, 'Adams, Ryan', 42, 'male', 'TX'),\r\n",
                "(2, 'Adams, Ryan', 42, 'male', 'TX'),\r\n",
                "(3, 'Booney, Jacob', 62, 'male', 'TX'),\r\n",
                "(4, 'Lloyd, Brittany', 33, 'female', 'CA'),\r\n",
                "(5, 'Flowers, Mya', 28, 'female', 'NC'),\r\n",
                "(6, 'Johnson, Brandy', 59, 'female', 'FL');\r\n",
                "\r\n",
                "SELECT * FROM Doctor"
            ],
            "metadata": {
                "language": "sql",
                "azdata_cell_guid": "532af3ef-34be-402c-be7d-749cd693f4e7"
            },
            "outputs": [
                {
                    "output_type": "display_data",
                    "data": {
                        "text/html": "(6 rows affected)"
                    },
                    "metadata": {}
                },
                {
                    "output_type": "display_data",
                    "data": {
                        "text/html": "(6 rows affected)"
                    },
                    "metadata": {}
                },
                {
                    "output_type": "display_data",
                    "data": {
                        "text/html": "Total execution time: 00:00:00.247"
                    },
                    "metadata": {}
                },
                {
                    "output_type": "execute_result",
                    "metadata": {},
                    "execution_count": 13,
                    "data": {
                        "application/vnd.dataresource+json": {
                            "schema": {
                                "fields": [
                                    {
                                        "name": "Doctor_ID"
                                    },
                                    {
                                        "name": "Doctor_Name"
                                    },
                                    {
                                        "name": "Doctor_Age"
                                    },
                                    {
                                        "name": "Doctor_Gender"
                                    },
                                    {
                                        "name": "Doctor_Address"
                                    }
                                ]
                            },
                            "data": [
                                {
                                    "0": "1",
                                    "1": "Adams, Ryan",
                                    "2": "42",
                                    "3": "male",
                                    "4": "TX"
                                },
                                {
                                    "0": "2",
                                    "1": "Adams, Ryan",
                                    "2": "42",
                                    "3": "male",
                                    "4": "TX"
                                },
                                {
                                    "0": "3",
                                    "1": "Booney, Jacob",
                                    "2": "62",
                                    "3": "male",
                                    "4": "TX"
                                },
                                {
                                    "0": "4",
                                    "1": "Lloyd, Brittany",
                                    "2": "33",
                                    "3": "female",
                                    "4": "CA"
                                },
                                {
                                    "0": "5",
                                    "1": "Flowers, Mya",
                                    "2": "28",
                                    "3": "female",
                                    "4": "NC"
                                },
                                {
                                    "0": "6",
                                    "1": "Johnson, Brandy",
                                    "2": "59",
                                    "3": "female",
                                    "4": "FL"
                                }
                            ]
                        },
                        "text/html": [
                            "<table>",
                            "<tr><th>Doctor_ID</th><th>Doctor_Name</th><th>Doctor_Age</th><th>Doctor_Gender</th><th>Doctor_Address</th></tr>",
                            "<tr><td>1</td><td>Adams, Ryan</td><td>42</td><td>male</td><td>TX</td></tr>",
                            "<tr><td>2</td><td>Adams, Ryan</td><td>42</td><td>male</td><td>TX</td></tr>",
                            "<tr><td>3</td><td>Booney, Jacob</td><td>62</td><td>male</td><td>TX</td></tr>",
                            "<tr><td>4</td><td>Lloyd, Brittany</td><td>33</td><td>female</td><td>CA</td></tr>",
                            "<tr><td>5</td><td>Flowers, Mya</td><td>28</td><td>female</td><td>NC</td></tr>",
                            "<tr><td>6</td><td>Johnson, Brandy</td><td>59</td><td>female</td><td>FL</td></tr>",
                            "</table>"
                        ]
                    }
                }
            ],
            "execution_count": 13
        },
        {
            "cell_type": "code",
            "source": [
                "UPDATE Doctor \r\n",
                "SET Doctor_Name = 'Allan, Ryan', Doctor_Age = 32, Doctor_Gender ='male', Doctor_Address = 'CA'\r\n",
                "WHERE Doctor_ID = 2;\r\n",
                "\r\n",
                "SELECT * FROM DOCTOR;"
            ],
            "metadata": {
                "language": "sql",
                "azdata_cell_guid": "ce3bddb5-4c51-4edc-baaf-56ce3e681adc"
            },
            "outputs": [
                {
                    "output_type": "display_data",
                    "data": {
                        "text/html": "(1 row affected)"
                    },
                    "metadata": {}
                },
                {
                    "output_type": "display_data",
                    "data": {
                        "text/html": "(6 rows affected)"
                    },
                    "metadata": {}
                },
                {
                    "output_type": "display_data",
                    "data": {
                        "text/html": "Total execution time: 00:00:00.006"
                    },
                    "metadata": {}
                },
                {
                    "output_type": "execute_result",
                    "metadata": {},
                    "execution_count": 53,
                    "data": {
                        "application/vnd.dataresource+json": {
                            "schema": {
                                "fields": [
                                    {
                                        "name": "Doctor_ID"
                                    },
                                    {
                                        "name": "Doctor_Name"
                                    },
                                    {
                                        "name": "Doctor_Age"
                                    },
                                    {
                                        "name": "Doctor_Gender"
                                    },
                                    {
                                        "name": "Doctor_Address"
                                    }
                                ]
                            },
                            "data": [
                                {
                                    "0": "1",
                                    "1": "Adams, Ryan",
                                    "2": "42",
                                    "3": "male",
                                    "4": "TX"
                                },
                                {
                                    "0": "2",
                                    "1": "Allan, Ryan",
                                    "2": "32",
                                    "3": "male",
                                    "4": "CA"
                                },
                                {
                                    "0": "3",
                                    "1": "Booney, Jacob",
                                    "2": "62",
                                    "3": "male",
                                    "4": "TX"
                                },
                                {
                                    "0": "4",
                                    "1": "Lloyd, Brittany",
                                    "2": "33",
                                    "3": "female",
                                    "4": "CA"
                                },
                                {
                                    "0": "5",
                                    "1": "Flowers, Mya",
                                    "2": "28",
                                    "3": "female",
                                    "4": "NC"
                                },
                                {
                                    "0": "6",
                                    "1": "Johnson, Brandy",
                                    "2": "59",
                                    "3": "female",
                                    "4": "FL"
                                }
                            ]
                        },
                        "text/html": [
                            "<table>",
                            "<tr><th>Doctor_ID</th><th>Doctor_Name</th><th>Doctor_Age</th><th>Doctor_Gender</th><th>Doctor_Address</th></tr>",
                            "<tr><td>1</td><td>Adams, Ryan</td><td>42</td><td>male</td><td>TX</td></tr>",
                            "<tr><td>2</td><td>Allan, Ryan</td><td>32</td><td>male</td><td>CA</td></tr>",
                            "<tr><td>3</td><td>Booney, Jacob</td><td>62</td><td>male</td><td>TX</td></tr>",
                            "<tr><td>4</td><td>Lloyd, Brittany</td><td>33</td><td>female</td><td>CA</td></tr>",
                            "<tr><td>5</td><td>Flowers, Mya</td><td>28</td><td>female</td><td>NC</td></tr>",
                            "<tr><td>6</td><td>Johnson, Brandy</td><td>59</td><td>female</td><td>FL</td></tr>",
                            "</table>"
                        ]
                    }
                }
            ],
            "execution_count": 53
        },
        {
            "cell_type": "code",
            "source": [
                "INSERT INTO Patient\r\n",
                "VALUES (1, 'Doe, John', 22, 'CA','flu', 4, 'male'),\r\n",
                "(2, 'Jones, Melissa', 27, 'CA','c19', 4, 'female'),\r\n",
                "(3, 'Stephens, Kandi', 35, 'CA','injury', 4, 'female'),\r\n",
                "(5, 'Bellomo, John', 38, 'NC','flu', 5, 'male'),\r\n",
                "(6, 'Milton, Richard', 42, 'CA','injury', 4, 'male'),\r\n",
                "(7, 'White, Mandy', 23, 'FL','injury', 6, 'female'),\r\n",
                "(8, 'Allen, John', 59, 'FL','testing', 6, 'male'),\r\n",
                "(9, 'Arnolds, Alex', 36, 'CA','follow-up', 4, 'male'),\r\n",
                "(10, 'Carter, Andy', 27, 'NC','flu', 5, 'male'),\r\n",
                "(11, 'Ronalds, Ryan', 17, 'TX','chest pain', 3, 'male');\r\n",
                "\r\n",
                "SELECT * FROM Patient"
            ],
            "metadata": {
                "language": "sql",
                "azdata_cell_guid": "d310773b-8544-4e03-b823-895d5813e9a3",
                "tags": []
            },
            "outputs": [
                {
                    "output_type": "display_data",
                    "data": {
                        "text/html": "(10 rows affected)"
                    },
                    "metadata": {}
                },
                {
                    "output_type": "display_data",
                    "data": {
                        "text/html": "(10 rows affected)"
                    },
                    "metadata": {}
                },
                {
                    "output_type": "display_data",
                    "data": {
                        "text/html": "Total execution time: 00:00:00.047"
                    },
                    "metadata": {}
                },
                {
                    "output_type": "execute_result",
                    "metadata": {},
                    "execution_count": 16,
                    "data": {
                        "application/vnd.dataresource+json": {
                            "schema": {
                                "fields": [
                                    {
                                        "name": "Patient_ID"
                                    },
                                    {
                                        "name": "Patient_Name"
                                    },
                                    {
                                        "name": "Patient_Age"
                                    },
                                    {
                                        "name": "Patient_Address"
                                    },
                                    {
                                        "name": "Disease"
                                    },
                                    {
                                        "name": "Doctor_ID"
                                    },
                                    {
                                        "name": "Patient_Gender"
                                    }
                                ]
                            },
                            "data": [
                                {
                                    "0": "1",
                                    "1": "Doe, John",
                                    "2": "22",
                                    "3": "CA",
                                    "4": "flu",
                                    "5": "4",
                                    "6": "male"
                                },
                                {
                                    "0": "2",
                                    "1": "Jones, Melissa",
                                    "2": "27",
                                    "3": "CA",
                                    "4": "c19",
                                    "5": "4",
                                    "6": "female"
                                },
                                {
                                    "0": "3",
                                    "1": "Stephens, Kandi",
                                    "2": "35",
                                    "3": "CA",
                                    "4": "injury",
                                    "5": "4",
                                    "6": "female"
                                },
                                {
                                    "0": "5",
                                    "1": "Bellomo, John",
                                    "2": "38",
                                    "3": "NC",
                                    "4": "flu",
                                    "5": "5",
                                    "6": "male"
                                },
                                {
                                    "0": "6",
                                    "1": "Milton, Richard",
                                    "2": "42",
                                    "3": "CA",
                                    "4": "injury",
                                    "5": "4",
                                    "6": "male"
                                },
                                {
                                    "0": "7",
                                    "1": "White, Mandy",
                                    "2": "23",
                                    "3": "FL",
                                    "4": "injury",
                                    "5": "6",
                                    "6": "female"
                                },
                                {
                                    "0": "8",
                                    "1": "Allen, John",
                                    "2": "59",
                                    "3": "FL",
                                    "4": "testing",
                                    "5": "6",
                                    "6": "male"
                                },
                                {
                                    "0": "9",
                                    "1": "Arnolds, Alex",
                                    "2": "36",
                                    "3": "CA",
                                    "4": "follow-up",
                                    "5": "4",
                                    "6": "male"
                                },
                                {
                                    "0": "10",
                                    "1": "Carter, Andy",
                                    "2": "27",
                                    "3": "NC",
                                    "4": "flu",
                                    "5": "5",
                                    "6": "male"
                                },
                                {
                                    "0": "11",
                                    "1": "Ronalds, Ryan",
                                    "2": "17",
                                    "3": "TX",
                                    "4": "chest pain",
                                    "5": "3",
                                    "6": "male"
                                }
                            ]
                        },
                        "text/html": [
                            "<table>",
                            "<tr><th>Patient_ID</th><th>Patient_Name</th><th>Patient_Age</th><th>Patient_Address</th><th>Disease</th><th>Doctor_ID</th><th>Patient_Gender</th></tr>",
                            "<tr><td>1</td><td>Doe, John</td><td>22</td><td>CA</td><td>flu</td><td>4</td><td>male</td></tr>",
                            "<tr><td>2</td><td>Jones, Melissa</td><td>27</td><td>CA</td><td>c19</td><td>4</td><td>female</td></tr>",
                            "<tr><td>3</td><td>Stephens, Kandi</td><td>35</td><td>CA</td><td>injury</td><td>4</td><td>female</td></tr>",
                            "<tr><td>5</td><td>Bellomo, John</td><td>38</td><td>NC</td><td>flu</td><td>5</td><td>male</td></tr>",
                            "<tr><td>6</td><td>Milton, Richard</td><td>42</td><td>CA</td><td>injury</td><td>4</td><td>male</td></tr>",
                            "<tr><td>7</td><td>White, Mandy</td><td>23</td><td>FL</td><td>injury</td><td>6</td><td>female</td></tr>",
                            "<tr><td>8</td><td>Allen, John</td><td>59</td><td>FL</td><td>testing</td><td>6</td><td>male</td></tr>",
                            "<tr><td>9</td><td>Arnolds, Alex</td><td>36</td><td>CA</td><td>follow-up</td><td>4</td><td>male</td></tr>",
                            "<tr><td>10</td><td>Carter, Andy</td><td>27</td><td>NC</td><td>flu</td><td>5</td><td>male</td></tr>",
                            "<tr><td>11</td><td>Ronalds, Ryan</td><td>17</td><td>TX</td><td>chest pain</td><td>3</td><td>male</td></tr>",
                            "</table>"
                        ]
                    }
                }
            ],
            "execution_count": 16
        },
        {
            "cell_type": "code",
            "source": [
                "INSERT INTO Room\r\n",
                "VALUES (223, 'Full'),\r\n",
                "(420, 'Full'),\r\n",
                "(25, 'Full'),\r\n",
                "(1, 'Full'),\r\n",
                "(222, 'Full'),\r\n",
                "(228, 'Full'),\r\n",
                "(35, 'Full'),\r\n",
                "(47, 'Full'),\r\n",
                "(157, 'Full'),\r\n",
                "(12, 'Full');\r\n",
                "\r\n",
                "INSERT INTO Check_In_Out\r\n",
                "VALUES (1, 223, 2022-09-27, 2022-09-27),\r\n",
                "(2, 420, 2022-02-28, 2022-09-27),\r\n",
                "(3, 25, 2022-08-12, 2022-08-22),\r\n",
                "(5, 1, 2022-09-28, 2022-10-2),\r\n",
                "(6, 222, 2022-08-12, 2022-10-5),\r\n",
                "(7, 228, 2022-08-12, 2022-10-12),\r\n",
                "(8, 35, 2022-09-26, 2022-09-26),\r\n",
                "(9, 47, 2022-09-22, 2022-09-22),\r\n",
                "(10, 157, 2022-09-27, 2022-09-27),\r\n",
                "(11, 12, 2022-09-28, 2022-09-28);\r\n",
                ""
            ],
            "metadata": {
                "language": "sql",
                "azdata_cell_guid": "4987470b-d942-44d8-b9e1-fa28c2b7d0c0"
            },
            "outputs": [
                {
                    "output_type": "display_data",
                    "data": {
                        "text/html": "(10 rows affected)"
                    },
                    "metadata": {}
                },
                {
                    "output_type": "display_data",
                    "data": {
                        "text/html": "(10 rows affected)"
                    },
                    "metadata": {}
                },
                {
                    "output_type": "display_data",
                    "data": {
                        "text/html": "Total execution time: 00:00:00.031"
                    },
                    "metadata": {}
                }
            ],
            "execution_count": 26
        },
        {
            "cell_type": "code",
            "source": [
                "SELECT * FROM Room;\r\n",
                "SELECT * FROM Check_In_Out;"
            ],
            "metadata": {
                "language": "sql",
                "azdata_cell_guid": "6600a2e1-95b3-4e44-85d2-7a6479bfb808"
            },
            "outputs": [
                {
                    "output_type": "display_data",
                    "data": {
                        "text/html": "(10 rows affected)"
                    },
                    "metadata": {}
                },
                {
                    "output_type": "display_data",
                    "data": {
                        "text/html": "(10 rows affected)"
                    },
                    "metadata": {}
                },
                {
                    "output_type": "display_data",
                    "data": {
                        "text/html": "Total execution time: 00:00:00.043"
                    },
                    "metadata": {}
                },
                {
                    "output_type": "execute_result",
                    "metadata": {},
                    "execution_count": 27,
                    "data": {
                        "application/vnd.dataresource+json": {
                            "schema": {
                                "fields": [
                                    {
                                        "name": "Room_No"
                                    },
                                    {
                                        "name": "Room_Status"
                                    }
                                ]
                            },
                            "data": [
                                {
                                    "0": "1",
                                    "1": "Full"
                                },
                                {
                                    "0": "12",
                                    "1": "Full"
                                },
                                {
                                    "0": "25",
                                    "1": "Full"
                                },
                                {
                                    "0": "35",
                                    "1": "Full"
                                },
                                {
                                    "0": "47",
                                    "1": "Full"
                                },
                                {
                                    "0": "157",
                                    "1": "Full"
                                },
                                {
                                    "0": "222",
                                    "1": "Full"
                                },
                                {
                                    "0": "223",
                                    "1": "Full"
                                },
                                {
                                    "0": "228",
                                    "1": "Full"
                                },
                                {
                                    "0": "420",
                                    "1": "Full"
                                }
                            ]
                        },
                        "text/html": [
                            "<table>",
                            "<tr><th>Room_No</th><th>Room_Status</th></tr>",
                            "<tr><td>1</td><td>Full</td></tr>",
                            "<tr><td>12</td><td>Full</td></tr>",
                            "<tr><td>25</td><td>Full</td></tr>",
                            "<tr><td>35</td><td>Full</td></tr>",
                            "<tr><td>47</td><td>Full</td></tr>",
                            "<tr><td>157</td><td>Full</td></tr>",
                            "<tr><td>222</td><td>Full</td></tr>",
                            "<tr><td>223</td><td>Full</td></tr>",
                            "<tr><td>228</td><td>Full</td></tr>",
                            "<tr><td>420</td><td>Full</td></tr>",
                            "</table>"
                        ]
                    }
                },
                {
                    "output_type": "execute_result",
                    "metadata": {},
                    "execution_count": 27,
                    "data": {
                        "application/vnd.dataresource+json": {
                            "schema": {
                                "fields": [
                                    {
                                        "name": "Patient_ID"
                                    },
                                    {
                                        "name": "Room_No"
                                    },
                                    {
                                        "name": "Check_In_Date"
                                    },
                                    {
                                        "name": "Check_Out_Date"
                                    }
                                ]
                            },
                            "data": [
                                {
                                    "0": "1",
                                    "1": "223",
                                    "2": "1905-06-10 00:00:00.000",
                                    "3": "1905-06-10 00:00:00.000"
                                },
                                {
                                    "0": "2",
                                    "1": "420",
                                    "2": "1905-06-16 00:00:00.000",
                                    "3": "1905-06-10 00:00:00.000"
                                },
                                {
                                    "0": "3",
                                    "1": "25",
                                    "2": "1905-06-26 00:00:00.000",
                                    "3": "1905-06-16 00:00:00.000"
                                },
                                {
                                    "0": "5",
                                    "1": "1",
                                    "2": "1905-06-09 00:00:00.000",
                                    "3": "1905-07-04 00:00:00.000"
                                },
                                {
                                    "0": "6",
                                    "1": "222",
                                    "2": "1905-06-26 00:00:00.000",
                                    "3": "1905-07-01 00:00:00.000"
                                },
                                {
                                    "0": "7",
                                    "1": "228",
                                    "2": "1905-06-26 00:00:00.000",
                                    "3": "1905-06-24 00:00:00.000"
                                },
                                {
                                    "0": "8",
                                    "1": "35",
                                    "2": "1905-06-11 00:00:00.000",
                                    "3": "1905-06-11 00:00:00.000"
                                },
                                {
                                    "0": "9",
                                    "1": "47",
                                    "2": "1905-06-15 00:00:00.000",
                                    "3": "1905-06-15 00:00:00.000"
                                },
                                {
                                    "0": "10",
                                    "1": "157",
                                    "2": "1905-06-10 00:00:00.000",
                                    "3": "1905-06-10 00:00:00.000"
                                },
                                {
                                    "0": "11",
                                    "1": "12",
                                    "2": "1905-06-09 00:00:00.000",
                                    "3": "1905-06-09 00:00:00.000"
                                }
                            ]
                        },
                        "text/html": [
                            "<table>",
                            "<tr><th>Patient_ID</th><th>Room_No</th><th>Check_In_Date</th><th>Check_Out_Date</th></tr>",
                            "<tr><td>1</td><td>223</td><td>1905-06-10 00:00:00.000</td><td>1905-06-10 00:00:00.000</td></tr>",
                            "<tr><td>2</td><td>420</td><td>1905-06-16 00:00:00.000</td><td>1905-06-10 00:00:00.000</td></tr>",
                            "<tr><td>3</td><td>25</td><td>1905-06-26 00:00:00.000</td><td>1905-06-16 00:00:00.000</td></tr>",
                            "<tr><td>5</td><td>1</td><td>1905-06-09 00:00:00.000</td><td>1905-07-04 00:00:00.000</td></tr>",
                            "<tr><td>6</td><td>222</td><td>1905-06-26 00:00:00.000</td><td>1905-07-01 00:00:00.000</td></tr>",
                            "<tr><td>7</td><td>228</td><td>1905-06-26 00:00:00.000</td><td>1905-06-24 00:00:00.000</td></tr>",
                            "<tr><td>8</td><td>35</td><td>1905-06-11 00:00:00.000</td><td>1905-06-11 00:00:00.000</td></tr>",
                            "<tr><td>9</td><td>47</td><td>1905-06-15 00:00:00.000</td><td>1905-06-15 00:00:00.000</td></tr>",
                            "<tr><td>10</td><td>157</td><td>1905-06-10 00:00:00.000</td><td>1905-06-10 00:00:00.000</td></tr>",
                            "<tr><td>11</td><td>12</td><td>1905-06-09 00:00:00.000</td><td>1905-06-09 00:00:00.000</td></tr>",
                            "</table>"
                        ]
                    }
                }
            ],
            "execution_count": 27
        },
        {
            "cell_type": "code",
            "source": [
                "UPDATE Room SET Room_Status = 'EMPTY';"
            ],
            "metadata": {
                "language": "sql",
                "azdata_cell_guid": "bc0e4824-fef6-4f16-8b48-26d12b1c1677"
            },
            "outputs": [
                {
                    "output_type": "display_data",
                    "data": {
                        "text/html": "(10 rows affected)"
                    },
                    "metadata": {}
                },
                {
                    "output_type": "display_data",
                    "data": {
                        "text/html": "Total execution time: 00:00:00.031"
                    },
                    "metadata": {}
                }
            ],
            "execution_count": 29
        },
        {
            "cell_type": "code",
            "source": [
                "SELECT * FROM Room;"
            ],
            "metadata": {
                "language": "sql",
                "azdata_cell_guid": "6bc80c98-aa85-425f-b6eb-59515ce72cf7"
            },
            "outputs": [
                {
                    "output_type": "display_data",
                    "data": {
                        "text/html": "(10 rows affected)"
                    },
                    "metadata": {}
                },
                {
                    "output_type": "display_data",
                    "data": {
                        "text/html": "Total execution time: 00:00:00.046"
                    },
                    "metadata": {}
                },
                {
                    "output_type": "execute_result",
                    "metadata": {},
                    "execution_count": 31,
                    "data": {
                        "application/vnd.dataresource+json": {
                            "schema": {
                                "fields": [
                                    {
                                        "name": "Room_No"
                                    },
                                    {
                                        "name": "Room_Status"
                                    }
                                ]
                            },
                            "data": [
                                {
                                    "0": "1",
                                    "1": "EMPTY"
                                },
                                {
                                    "0": "12",
                                    "1": "EMPTY"
                                },
                                {
                                    "0": "25",
                                    "1": "EMPTY"
                                },
                                {
                                    "0": "35",
                                    "1": "EMPTY"
                                },
                                {
                                    "0": "47",
                                    "1": "EMPTY"
                                },
                                {
                                    "0": "157",
                                    "1": "EMPTY"
                                },
                                {
                                    "0": "222",
                                    "1": "EMPTY"
                                },
                                {
                                    "0": "223",
                                    "1": "EMPTY"
                                },
                                {
                                    "0": "228",
                                    "1": "EMPTY"
                                },
                                {
                                    "0": "420",
                                    "1": "EMPTY"
                                }
                            ]
                        },
                        "text/html": [
                            "<table>",
                            "<tr><th>Room_No</th><th>Room_Status</th></tr>",
                            "<tr><td>1</td><td>EMPTY</td></tr>",
                            "<tr><td>12</td><td>EMPTY</td></tr>",
                            "<tr><td>25</td><td>EMPTY</td></tr>",
                            "<tr><td>35</td><td>EMPTY</td></tr>",
                            "<tr><td>47</td><td>EMPTY</td></tr>",
                            "<tr><td>157</td><td>EMPTY</td></tr>",
                            "<tr><td>222</td><td>EMPTY</td></tr>",
                            "<tr><td>223</td><td>EMPTY</td></tr>",
                            "<tr><td>228</td><td>EMPTY</td></tr>",
                            "<tr><td>420</td><td>EMPTY</td></tr>",
                            "</table>"
                        ]
                    }
                }
            ],
            "execution_count": 31
        },
        {
            "cell_type": "code",
            "source": [
                "UPDATE Room \r\n",
                "SET Room_Status = 'Full'\r\n",
                "WHERE Room_No = 47;\r\n",
                "\r\n",
                "SELECT * FROM Room;"
            ],
            "metadata": {
                "language": "sql",
                "azdata_cell_guid": "82318e2e-04be-4683-82ea-9cc618f0e48f"
            },
            "outputs": [
                {
                    "output_type": "display_data",
                    "data": {
                        "text/html": "(1 row affected)"
                    },
                    "metadata": {}
                },
                {
                    "output_type": "display_data",
                    "data": {
                        "text/html": "(10 rows affected)"
                    },
                    "metadata": {}
                },
                {
                    "output_type": "display_data",
                    "data": {
                        "text/html": "Total execution time: 00:00:00.014"
                    },
                    "metadata": {}
                },
                {
                    "output_type": "execute_result",
                    "metadata": {},
                    "execution_count": 32,
                    "data": {
                        "application/vnd.dataresource+json": {
                            "schema": {
                                "fields": [
                                    {
                                        "name": "Room_No"
                                    },
                                    {
                                        "name": "Room_Status"
                                    }
                                ]
                            },
                            "data": [
                                {
                                    "0": "1",
                                    "1": "EMPTY"
                                },
                                {
                                    "0": "12",
                                    "1": "EMPTY"
                                },
                                {
                                    "0": "25",
                                    "1": "EMPTY"
                                },
                                {
                                    "0": "35",
                                    "1": "EMPTY"
                                },
                                {
                                    "0": "47",
                                    "1": "Full"
                                },
                                {
                                    "0": "157",
                                    "1": "EMPTY"
                                },
                                {
                                    "0": "222",
                                    "1": "EMPTY"
                                },
                                {
                                    "0": "223",
                                    "1": "EMPTY"
                                },
                                {
                                    "0": "228",
                                    "1": "EMPTY"
                                },
                                {
                                    "0": "420",
                                    "1": "EMPTY"
                                }
                            ]
                        },
                        "text/html": [
                            "<table>",
                            "<tr><th>Room_No</th><th>Room_Status</th></tr>",
                            "<tr><td>1</td><td>EMPTY</td></tr>",
                            "<tr><td>12</td><td>EMPTY</td></tr>",
                            "<tr><td>25</td><td>EMPTY</td></tr>",
                            "<tr><td>35</td><td>EMPTY</td></tr>",
                            "<tr><td>47</td><td>Full</td></tr>",
                            "<tr><td>157</td><td>EMPTY</td></tr>",
                            "<tr><td>222</td><td>EMPTY</td></tr>",
                            "<tr><td>223</td><td>EMPTY</td></tr>",
                            "<tr><td>228</td><td>EMPTY</td></tr>",
                            "<tr><td>420</td><td>EMPTY</td></tr>",
                            "</table>"
                        ]
                    }
                }
            ],
            "execution_count": 32
        },
        {
            "cell_type": "code",
            "source": [
                "SELECT Doctor_Name, COUNT(Patient_ID) AS Total_Patients\r\n",
                "FROM Patient, Doctor\r\n",
                "WHERE Patient.Doctor_ID = Doctor.Doctor_ID\r\n",
                "GROUP BY Doctor.Doctor_Name\r\n",
                "ORDER BY 2 DESC"
            ],
            "metadata": {
                "language": "sql",
                "azdata_cell_guid": "42f5d79f-95ac-4eb0-a0a9-77fb90219797",
                "tags": []
            },
            "outputs": [
                {
                    "output_type": "display_data",
                    "data": {
                        "text/html": "(4 rows affected)"
                    },
                    "metadata": {}
                },
                {
                    "output_type": "display_data",
                    "data": {
                        "text/html": "Total execution time: 00:00:00.019"
                    },
                    "metadata": {}
                },
                {
                    "output_type": "execute_result",
                    "metadata": {},
                    "execution_count": 54,
                    "data": {
                        "application/vnd.dataresource+json": {
                            "schema": {
                                "fields": [
                                    {
                                        "name": "Doctor_Name"
                                    },
                                    {
                                        "name": "Total_Patients"
                                    }
                                ]
                            },
                            "data": [
                                {
                                    "0": "Lloyd, Brittany",
                                    "1": "5"
                                },
                                {
                                    "0": "Flowers, Mya",
                                    "1": "2"
                                },
                                {
                                    "0": "Johnson, Brandy",
                                    "1": "2"
                                },
                                {
                                    "0": "Booney, Jacob",
                                    "1": "1"
                                }
                            ]
                        },
                        "text/html": [
                            "<table>",
                            "<tr><th>Doctor_Name</th><th>Total_Patients</th></tr>",
                            "<tr><td>Lloyd, Brittany</td><td>5</td></tr>",
                            "<tr><td>Flowers, Mya</td><td>2</td></tr>",
                            "<tr><td>Johnson, Brandy</td><td>2</td></tr>",
                            "<tr><td>Booney, Jacob</td><td>1</td></tr>",
                            "</table>"
                        ]
                    }
                }
            ],
            "execution_count": 54
        }
    ]
}