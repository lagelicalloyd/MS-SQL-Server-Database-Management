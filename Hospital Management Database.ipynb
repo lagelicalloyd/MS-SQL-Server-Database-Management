{
    "metadata": {
        "kernelspec": {
            "name": "SQL",
            "display_name": "SQL",
            "language": "sql"
        },
        "language_info": {
            "name": "sql",
            "version": ""
        }
    },
    "nbformat_minor": 2,
    "nbformat": 4,
    "cells": [
        {
            "cell_type": "markdown",
            "source": [
                "Creating and Altering Tables with SQL"
            ],
            "metadata": {
                "language": "sql",
                "azdata_cell_guid": "ee5b4286-f670-4954-b7a5-c9aeab698eee"
            },
            "attachments": {}
        },
        {
            "cell_type": "code",
            "source": [
                "CREATE TABLE Patient(\r\n",
                "\r\n",
                "Patient_ID INT NOT NULL,\r\n",
                "Patient_Name VARCHAR (100),\r\n",
                "Patient_Age INT,\r\n",
                "Patient_Address VARCHAR(100),\r\n",
                "Patient_Gender VARCHAR(100),\r\n",
                "Disease VARCHAR(100)\r\n",
                ");\r\n",
                ""
            ],
            "metadata": {
                "azdata_cell_guid": "546f56df-603b-4d0d-993f-8fc4124ce4cb",
                "language": "sql",
                "tags": []
            },
            "outputs": [
                {
                    "output_type": "display_data",
                    "data": {
                        "text/html": "Commands completed successfully."
                    },
                    "metadata": {}
                },
                {
                    "output_type": "display_data",
                    "data": {
                        "text/html": "Total execution time: 00:00:00.024"
                    },
                    "metadata": {}
                }
            ],
            "execution_count": 1
        },
        {
            "cell_type": "code",
            "source": [
                "ALTER TABLE Patient\r\n",
                "ADD Doctor_ID INT NOT NULL;"
            ],
            "metadata": {
                "language": "sql",
                "azdata_cell_guid": "83b8cfb0-01c7-4260-838c-3a484bf75764"
            },
            "outputs": [
                {
                    "output_type": "display_data",
                    "data": {
                        "text/html": "Commands completed successfully."
                    },
                    "metadata": {}
                },
                {
                    "output_type": "display_data",
                    "data": {
                        "text/html": "Total execution time: 00:00:00.012"
                    },
                    "metadata": {}
                }
            ],
            "execution_count": 2
        },
        {
            "cell_type": "code",
            "source": [
                "ALTER TABLE Patient\r\n",
                "DROP COLUMN Patient_Gender"
            ],
            "metadata": {
                "language": "sql",
                "azdata_cell_guid": "7b61313c-af88-4959-bcff-500378b1289b"
            },
            "outputs": [
                {
                    "output_type": "display_data",
                    "data": {
                        "text/html": "Commands completed successfully."
                    },
                    "metadata": {}
                },
                {
                    "output_type": "display_data",
                    "data": {
                        "text/html": "Total execution time: 00:00:00.053"
                    },
                    "metadata": {}
                }
            ],
            "execution_count": 3
        },
        {
            "cell_type": "code",
            "source": [
                "SELECT * FROM Patient"
            ],
            "metadata": {
                "language": "sql",
                "azdata_cell_guid": "14d61cc8-e969-4d8e-9815-8686fda19f5f"
            },
            "outputs": [
                {
                    "output_type": "display_data",
                    "data": {
                        "text/html": "(0 rows affected)"
                    },
                    "metadata": {}
                },
                {
                    "output_type": "display_data",
                    "data": {
                        "text/html": "Total execution time: 00:00:00.124"
                    },
                    "metadata": {}
                },
                {
                    "output_type": "execute_result",
                    "metadata": {},
                    "execution_count": 4,
                    "data": {
                        "application/vnd.dataresource+json": {
                            "schema": {
                                "fields": [
                                    {
                                        "name": "Patient_ID"
                                    },
                                    {
                                        "name": "Patient_Name"
                                    },
                                    {
                                        "name": "Patient_Age"
                                    },
                                    {
                                        "name": "Patient_Address"
                                    },
                                    {
                                        "name": "Disease"
                                    },
                                    {
                                        "name": "Doctor_ID"
                                    }
                                ]
                            },
                            "data": []
                        },
                        "text/html": [
                            "<table>",
                            "<tr><th>Patient_ID</th><th>Patient_Name</th><th>Patient_Age</th><th>Patient_Address</th><th>Disease</th><th>Doctor_ID</th></tr>",
                            "</table>"
                        ]
                    }
                }
            ],
            "execution_count": 4
        },
        {
            "cell_type": "code",
            "source": [
                "ALTER TABLE Patient\r\n",
                "ADD CONSTRAINT Patient_PK\r\n",
                "PRIMARY KEY (Patient_ID)"
            ],
            "metadata": {
                "language": "sql",
                "azdata_cell_guid": "9a961c79-5d70-429a-8cfc-de2853e1eba4"
            },
            "outputs": [
                {
                    "output_type": "display_data",
                    "data": {
                        "text/html": "Commands completed successfully."
                    },
                    "metadata": {}
                },
                {
                    "output_type": "display_data",
                    "data": {
                        "text/html": "Total execution time: 00:00:00.038"
                    },
                    "metadata": {}
                }
            ],
            "execution_count": 6
        },
        {
            "cell_type": "code",
            "source": [
                "CREATE TABLE Doctor(\r\n",
                "    Doctor_ID INT NOT NULL,\r\n",
                "    Doctor_Name VARCHAR(100),\r\n",
                "    Doctor_Age VARCHAR(100),\r\n",
                "    Doctor_Gender VARCHAR(100),\r\n",
                "    Doctor_Address VARCHAR(100)\r\n",
                "\r\n",
                "    CONSTRAINT Doctor_PK PRIMARY KEY (Doctor_ID)\r\n",
                ")"
            ],
            "metadata": {
                "language": "sql",
                "azdata_cell_guid": "7e8b7a14-b2db-4223-a9f0-93b08a90e956"
            },
            "outputs": [
                {
                    "output_type": "display_data",
                    "data": {
                        "text/html": "Commands completed successfully."
                    },
                    "metadata": {}
                },
                {
                    "output_type": "display_data",
                    "data": {
                        "text/html": "Total execution time: 00:00:00.035"
                    },
                    "metadata": {}
                }
            ],
            "execution_count": 7
        },
        {
            "cell_type": "code",
            "source": [
                "SELECT * FROM Doc"
            ],
            "metadata": {
                "language": "sql",
                "azdata_cell_guid": "de9bd711-5aee-43d0-8b4f-0688ceab1df0"
            },
            "outputs": [
                {
                    "output_type": "display_data",
                    "data": {
                        "text/html": "(0 rows affected)"
                    },
                    "metadata": {}
                },
                {
                    "output_type": "display_data",
                    "data": {
                        "text/html": "Total execution time: 00:00:00.005"
                    },
                    "metadata": {}
                },
                {
                    "output_type": "execute_result",
                    "metadata": {},
                    "execution_count": 8,
                    "data": {
                        "application/vnd.dataresource+json": {
                            "schema": {
                                "fields": [
                                    {
                                        "name": "Doctor_ID"
                                    },
                                    {
                                        "name": "Doctor_Name"
                                    },
                                    {
                                        "name": "Doctor_Age"
                                    },
                                    {
                                        "name": "Doctor_Gender"
                                    },
                                    {
                                        "name": "Doctor_Address"
                                    }
                                ]
                            },
                            "data": []
                        },
                        "text/html": [
                            "<table>",
                            "<tr><th>Doctor_ID</th><th>Doctor_Name</th><th>Doctor_Age</th><th>Doctor_Gender</th><th>Doctor_Address</th></tr>",
                            "</table>"
                        ]
                    }
                }
            ],
            "execution_count": 8
        },
        {
            "cell_type": "code",
            "source": [
                "CREATE TABLE R"
            ],
            "metadata": {
                "language": "sql",
                "azdata_cell_guid": "80946559-a9fc-45ce-a57e-50c63f484428"
            },
            "outputs": [],
            "execution_count": null
        }
    ]
}